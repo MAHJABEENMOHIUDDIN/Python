{
 "cells": [
  {
   "cell_type": "markdown",
   "metadata": {},
   "source": [
    "# **OPPS CONCEPT**"
   ]
  },
  {
   "cell_type": "markdown",
   "metadata": {},
   "source": [
    "# *Class*"
   ]
  },
  {
   "cell_type": "code",
   "execution_count": 23,
   "metadata": {},
   "outputs": [
    {
     "name": "stdout",
     "output_type": "stream",
     "text": [
      "Added scientist to the list. Updated list is ['engineer', 'doctor', 'mechanic', 'teacher', 'scientist']\n"
     ]
    }
   ],
   "source": [
    "class Person:\n",
    "    def __init__(self, name, age, location):\n",
    "        self.name = name_\n",
    "        self.age = age_\n",
    "        self.location = location_\n",
    "\n",
    "    def person_details(self):\n",
    "        print(\"The details of the person:\")\n",
    "        print(f\"'Name:' {self.name}, 'Age of person:' {self.age}, 'location of person is:' {self.location}\")\n",
    "\n",
    "    def occupation(self):\n",
    "        occ = ['engineer', 'doctor', 'mechanic', 'teacher']\n",
    "        i = input(\"Please enter your occupation: \")\n",
    "        if i in occ:\n",
    "            print(\"Occupation is in the list.\")\n",
    "        else:\n",
    "            occ.append(i)\n",
    "            print(f\"Added {i} to the list. Updated list is {occ}\")\n",
    "        \n",
    "\n",
    "p = Person(name = 'Abby', age = '25', location= 'Sydney')\n",
    "p.occupation()\n",
    "\n"
   ]
  },
  {
   "cell_type": "markdown",
   "metadata": {},
   "source": [
    "# *Inheritance*"
   ]
  },
  {
   "cell_type": "code",
   "execution_count": 2,
   "metadata": {},
   "outputs": [
    {
     "name": "stdout",
     "output_type": "stream",
     "text": [
      "The details of the person:\n",
      "'Name:' Abby, 'Age of person:' 25, 'location of person is:' Sydney\n",
      "The description is:\n",
      "'Car Owner name:' Abby, 'Car Owner Age:' 25, 'Car Owner Residential Address:' Sydney, 'Car Brand Name:' Toyota, 'Car Market Value:' 20000, 'Car old or new:' New\n"
     ]
    }
   ],
   "source": [
    "class Car(Person):\n",
    "    def __init__(self, name, age, location, car_name, car_value, car_new_old):\n",
    "        super().__init__(name, age, location)\n",
    "        self.car_name = car_name\n",
    "        self.car_value = car_value\n",
    "        self.car_new_old = car_new_old\n",
    "\n",
    "    def car_details(self):\n",
    "        print(\"The description is:\")\n",
    "        print(f\"'Car Owner name:' {self.name}, 'Car Owner Age:' {self.age}, 'Car Owner Residential Address:' {self.location}, 'Car Brand Name:' {self.car_name}, 'Car Market Value:' {self.car_value}, 'Car old or new:' {self.car_new_old}\")\n",
    "\n",
    "car = Car(name='Abby', age='25', location='Sydney', car_name='Toyota', car_value='20000', car_new_old='New')\n",
    "car.person_details()\n",
    "car.car_details()"
   ]
  },
  {
   "cell_type": "markdown",
   "metadata": {},
   "source": [
    "# *Encapsulation Technique*"
   ]
  },
  {
   "cell_type": "code",
   "execution_count": 3,
   "metadata": {},
   "outputs": [
    {
     "name": "stdout",
     "output_type": "stream",
     "text": [
      "'Person Name:, Abby, 'Person Age': 25, 'Person City:' Sydney\n",
      "Abby\n",
      "25\n",
      "Sydney\n"
     ]
    }
   ],
   "source": [
    "class Person:\n",
    "    def __init__(self, name, age, location):\n",
    "        self.name = name\n",
    "        self._age = age\n",
    "        self.__location = location\n",
    "    \n",
    "    def person_detail(self):\n",
    "        print(f\"'Person Name:, {self.name}, 'Person Age': {self._age}, 'Person City:' {self.__location}\")\n",
    "\n",
    "    def get_age(self):\n",
    "        return self._age\n",
    "    \n",
    "    def set_age(self,age):\n",
    "        self._age = age_\n",
    "\n",
    "    def get_location(self):\n",
    "        return self.__location\n",
    "    \n",
    "    def set_location(self, location):\n",
    "        self.__location = location_\n",
    "    \n",
    "\n",
    "p = Person(name='Abby', age='25', location='Sydney')\n",
    "p.person_detail()\n",
    "\n",
    "print(p.name)\n",
    "\n",
    "print(p._age)\n",
    "\n",
    "print(p.get_location())\n"
   ]
  },
  {
   "cell_type": "markdown",
   "metadata": {},
   "source": [
    "# *UNIT TEST*"
   ]
  },
  {
   "cell_type": "code",
   "execution_count": 22,
   "metadata": {},
   "outputs": [
    {
     "name": "stderr",
     "output_type": "stream",
     "text": [
      "....\n",
      "----------------------------------------------------------------------\n",
      "Ran 4 tests in 0.003s\n",
      "\n",
      "OK\n"
     ]
    }
   ],
   "source": [
    "class TestPerson(unittest.TestCase):\n",
    "    def setUp(self):\n",
    "        self.person = Person(name='Abby', age='25', location='Sydney')\n",
    "\n",
    "    def test_initialization(self):\n",
    "        self.assertEqual(self.person.name, 'Abby')\n",
    "        self.assertEqual(self.person.age, '25')\n",
    "        self.assertEqual(self.person.location, 'Sydney')\n",
    "\n",
    "    @patch('sys.stdout', new_callable=StringIO)\n",
    "    \n",
    "    def test_person_details(self, mock_stdout):\n",
    "        self.person.person_details()\n",
    "        output = mock_stdout.getvalue().strip()\n",
    "        expected_output = (\n",
    "            \"The details of the person:\\n\"\n",
    "            \"'Name:' Abby, 'Age of person:' 25, 'location of person is:' Sydney\"\n",
    "        )\n",
    "        self.assertEqual(output, expected_output)\n",
    "   \n",
    "  \n",
    "    @patch('sys.stdout', new_callable=StringIO)\n",
    "\n",
    "    def test_occupation_not_in_list(self, mock_stdout, mock_input):\n",
    "        self.person.occupation()\n",
    "        output= mock_stdout.getvalue().strip()\n",
    "        self.assertIn(\"Occupation is in the list.\", output)\n",
    "    \n",
    "   \n",
    "    @patch('sys.stdout', new_callable=StringIO)\n",
    "    def test_occupation_in_list(self, mock_stdout, mock_input):\n",
    "        self.person.occupation()\n",
    "        output = mock_stdout.getvalue().strip()\n",
    "        self.assertIn(\"Added scientist to the list. Updated list is\", output)\n",
    "\n",
    "\n",
    "\n",
    "if __name__ == '__main__':\n",
    "  unittest.main(argv=['first-arg-is-ignored'], exit= False)\n",
    "          \n"
   ]
  }
 ],
 "metadata": {
  "kernelspec": {
   "display_name": "Python 3",
   "language": "python",
   "name": "python3"
  },
  "language_info": {
   "codemirror_mode": {
    "name": "ipython",
    "version": 3
   },
   "file_extension": ".py",
   "mimetype": "text/x-python",
   "name": "python",
   "nbconvert_exporter": "python",
   "pygments_lexer": "ipython3",
   "version": "3.9.13"
  }
 },
 "nbformat": 4,
 "nbformat_minor": 2
}
